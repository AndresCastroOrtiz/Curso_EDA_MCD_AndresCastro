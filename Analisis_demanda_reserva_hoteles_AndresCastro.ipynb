{
  "nbformat": 4,
  "nbformat_minor": 0,
  "metadata": {
    "colab": {
      "provenance": [],
      "authorship_tag": "ABX9TyPXehagI50cDR1lBXHH3dCN",
      "include_colab_link": true
    },
    "kernelspec": {
      "name": "python3",
      "display_name": "Python 3"
    },
    "language_info": {
      "name": "python"
    }
  },
  "cells": [
    {
      "cell_type": "markdown",
      "metadata": {
        "id": "view-in-github",
        "colab_type": "text"
      },
      "source": [
        "<a href=\"https://colab.research.google.com/github/AndresCastroOrtiz/Curso_EDA_MCD_AndresCastro/blob/main/Analisis_demanda_reserva_hoteles_AndresCastro.ipynb\" target=\"_parent\"><img src=\"https://colab.research.google.com/assets/colab-badge.svg\" alt=\"Open In Colab\"/></a>"
      ]
    },
    {
      "cell_type": "markdown",
      "source": [
        "**Taller 1. Análisis de la demanda de reservas de hoteles**\n",
        "\n",
        "Andrés Felipe Castro Ortiz\n",
        "\n",
        "Estudiante Maestría Ciencia de Datos"
      ],
      "metadata": {
        "id": "FnWuLbf8tTOG"
      }
    },
    {
      "cell_type": "markdown",
      "source": [
        "**1. Contexto del análisis**\n",
        "\n",
        "Con el fin de predecir la cancelación o no de una reserva de hotel y la demanda por temporada de hoteles urbanos o resort en portugal, ademas de responder a preguntas como cual es la mejor temporada para viajar a potugal y cual es la duración de la estancia optima para obtener la mejor tarifa.\n",
        "\n",
        "Se entrega una base de datos con los datos de las reservas, entre el 1 de julio de 2015 y el 31 de agosto de 2017, para un hotel urbano en la ciudad de Algarve y un hotel resort en la ciudad de Lisboa. Adicionalmente, se trata de un conjunto de datos estructurado obtenidos directamente de los servidores de las bases de datos de los hoteles mediante la ejecución de una consulta en SQL, donde cada fila representa una reserva de hotel urbano o resort efectada correctamente o cancelada y cada columna representa variables que definen el estado y los detalles de la reserva. \n",
        "\n",
        "Datos tomados de: https://www.kaggle.com/datasets/jessemostipak/hotel-booking-demand\n",
        "\n",
        "Información Complementaria asociada al conjunto de datos: https://www.sciencedirect.com/science/article/pii/S2352340918315191\n",
        "\n",
        "\n"
      ],
      "metadata": {
        "id": "XV0mbYUntVXY"
      }
    },
    {
      "cell_type": "markdown",
      "source": [
        "**2. Preguntas SMART**\n",
        "\n",
        "¿Cual es lo probabilidad de que una reserva en el hotel resort o urbano sea cancelada durante la temporada alta de turismo en el país de Portugal?\n",
        "\n",
        "¿Cual es la demanda de habitaciones por temporada alta en Portugal de los hoteles urbano y resort?"
      ],
      "metadata": {
        "id": "OXaZ3fAJ2t3O"
      }
    },
    {
      "cell_type": "markdown",
      "source": [
        "**Descripción de los datos**\n",
        "\n",
        "Cada fila representa una reserva de hotel urbano o resort efectada correctamente o cancelada y cada columna representa variables que definen el estado y los detalles de la reserva de la siguiente manera:\n",
        "\n"
      ],
      "metadata": {
        "id": "Sw_Cwh-A5gpW"
      }
    },
    {
      "cell_type": "code",
      "execution_count": null,
      "metadata": {
        "id": "eiYUhLKtpAhf"
      },
      "outputs": [],
      "source": []
    },
    {
      "cell_type": "code",
      "source": [],
      "metadata": {
        "id": "Afy3PV6ltrtl"
      },
      "execution_count": null,
      "outputs": []
    }
  ]
}